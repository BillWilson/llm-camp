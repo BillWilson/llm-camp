{
 "cells": [
  {
   "cell_type": "code",
   "id": "initial_id",
   "metadata": {
    "collapsed": true,
    "ExecuteTime": {
     "end_time": "2024-08-05T18:09:00.538252Z",
     "start_time": "2024-08-05T18:08:58.841243Z"
    }
   },
   "source": "import pandas as pd",
   "outputs": [],
   "execution_count": 2
  },
  {
   "metadata": {
    "ExecuteTime": {
     "end_time": "2024-08-05T18:10:18.986979Z",
     "start_time": "2024-08-05T18:10:18.234076Z"
    }
   },
   "cell_type": "code",
   "source": [
    "github_url = 'https://github.com/DataTalksClub/llm-zoomcamp/blob/main/04-monitoring/data/results-gpt4o-mini.csv'\n",
    "url = f'{github_url}?raw=1'\n",
    "df = pd.read_csv(url)\n",
    "\n",
    "df = df.iloc[:300]\n",
    "print(df)"
   ],
   "id": "1457c907295be573",
   "outputs": [
    {
     "name": "stdout",
     "output_type": "stream",
     "text": [
      "                                            answer_llm  \\\n",
      "0    You can sign up for the course by visiting the...   \n",
      "1    You can sign up using the link provided in the...   \n",
      "2    Yes, there is an FAQ for the Machine Learning ...   \n",
      "3    The context does not provide any specific info...   \n",
      "4    To structure your questions and answers for th...   \n",
      "..                                                 ...   \n",
      "295  An alternative way to load the data using the ...   \n",
      "296  You can directly download the dataset from Git...   \n",
      "297  You can fetch data for homework using the `req...   \n",
      "298  If the status code is 200 when downloading dat...   \n",
      "299  If the file download fails when using the requ...   \n",
      "\n",
      "                                           answer_orig  document  \\\n",
      "0    Machine Learning Zoomcamp FAQ\\nThe purpose of ...  0227b872   \n",
      "1    Machine Learning Zoomcamp FAQ\\nThe purpose of ...  0227b872   \n",
      "2    Machine Learning Zoomcamp FAQ\\nThe purpose of ...  0227b872   \n",
      "3    Machine Learning Zoomcamp FAQ\\nThe purpose of ...  0227b872   \n",
      "4    Machine Learning Zoomcamp FAQ\\nThe purpose of ...  0227b872   \n",
      "..                                                 ...       ...   \n",
      "295  Above users showed how to load the dataset dir...  8d209d6d   \n",
      "296  Above users showed how to load the dataset dir...  8d209d6d   \n",
      "297  Above users showed how to load the dataset dir...  8d209d6d   \n",
      "298  Above users showed how to load the dataset dir...  8d209d6d   \n",
      "299  Above users showed how to load the dataset dir...  8d209d6d   \n",
      "\n",
      "                                              question  \\\n",
      "0                  Where can I sign up for the course?   \n",
      "1                   Can you provide a link to sign up?   \n",
      "2    Is there an FAQ for this Machine Learning course?   \n",
      "3    Does this course have a GitHub repository for ...   \n",
      "4    How can I structure my questions and answers f...   \n",
      "..                                                 ...   \n",
      "295  What is an alternative way to load the data us...   \n",
      "296  How can I directly download the dataset from G...   \n",
      "297  Could you share a method to fetch data for hom...   \n",
      "298  What should I do if the status code is 200 whe...   \n",
      "299  What does the code using the requests library ...   \n",
      "\n",
      "                        course  \n",
      "0    machine-learning-zoomcamp  \n",
      "1    machine-learning-zoomcamp  \n",
      "2    machine-learning-zoomcamp  \n",
      "3    machine-learning-zoomcamp  \n",
      "4    machine-learning-zoomcamp  \n",
      "..                         ...  \n",
      "295  machine-learning-zoomcamp  \n",
      "296  machine-learning-zoomcamp  \n",
      "297  machine-learning-zoomcamp  \n",
      "298  machine-learning-zoomcamp  \n",
      "299  machine-learning-zoomcamp  \n",
      "\n",
      "[300 rows x 5 columns]\n"
     ]
    }
   ],
   "execution_count": 9
  },
  {
   "metadata": {
    "ExecuteTime": {
     "end_time": "2024-08-05T18:11:22.191550Z",
     "start_time": "2024-08-05T18:11:00.870995Z"
    }
   },
   "cell_type": "code",
   "source": [
    "from sentence_transformers import SentenceTransformer\n",
    "model_name = 'multi-qa-mpnet-base-dot-v1'\n",
    "embedding_model = SentenceTransformer(model_name)\n",
    "answer_llm = df.iloc[0].answer_llm"
   ],
   "id": "412c9da458120d47",
   "outputs": [
    {
     "data": {
      "text/plain": [
       "modules.json:   0%|          | 0.00/229 [00:00<?, ?B/s]"
      ],
      "application/vnd.jupyter.widget-view+json": {
       "version_major": 2,
       "version_minor": 0,
       "model_id": "fe9ef47c90bd4f03a567beea78baa827"
      }
     },
     "metadata": {},
     "output_type": "display_data"
    },
    {
     "data": {
      "text/plain": [
       "config_sentence_transformers.json:   0%|          | 0.00/212 [00:00<?, ?B/s]"
      ],
      "application/vnd.jupyter.widget-view+json": {
       "version_major": 2,
       "version_minor": 0,
       "model_id": "9e97d83c9eee45aab03ceb25c913df5f"
      }
     },
     "metadata": {},
     "output_type": "display_data"
    },
    {
     "name": "stderr",
     "output_type": "stream",
     "text": [
      "You try to use a model that was created with version 3.0.0.dev0, however, your version is 2.7.0. This might cause unexpected behavior or errors. In that case, try to update to the latest version.\n",
      "\n",
      "\n",
      "\n"
     ]
    },
    {
     "data": {
      "text/plain": [
       "README.md:   0%|          | 0.00/8.71k [00:00<?, ?B/s]"
      ],
      "application/vnd.jupyter.widget-view+json": {
       "version_major": 2,
       "version_minor": 0,
       "model_id": "d0c2be0b2ce1422ba24a75f058809c4f"
      }
     },
     "metadata": {},
     "output_type": "display_data"
    },
    {
     "data": {
      "text/plain": [
       "sentence_bert_config.json:   0%|          | 0.00/53.0 [00:00<?, ?B/s]"
      ],
      "application/vnd.jupyter.widget-view+json": {
       "version_major": 2,
       "version_minor": 0,
       "model_id": "1c8bce2d59104fc79acda46c10c183f4"
      }
     },
     "metadata": {},
     "output_type": "display_data"
    },
    {
     "data": {
      "text/plain": [
       "config.json:   0%|          | 0.00/571 [00:00<?, ?B/s]"
      ],
      "application/vnd.jupyter.widget-view+json": {
       "version_major": 2,
       "version_minor": 0,
       "model_id": "7ac6909dec9e45bbbeeeb0939c52179e"
      }
     },
     "metadata": {},
     "output_type": "display_data"
    },
    {
     "data": {
      "text/plain": [
       "model.safetensors:   0%|          | 0.00/438M [00:00<?, ?B/s]"
      ],
      "application/vnd.jupyter.widget-view+json": {
       "version_major": 2,
       "version_minor": 0,
       "model_id": "f444a05b7e834be0b70835ec688dd01e"
      }
     },
     "metadata": {},
     "output_type": "display_data"
    },
    {
     "data": {
      "text/plain": [
       "tokenizer_config.json:   0%|          | 0.00/363 [00:00<?, ?B/s]"
      ],
      "application/vnd.jupyter.widget-view+json": {
       "version_major": 2,
       "version_minor": 0,
       "model_id": "84fbcb78078641bbb4d6d8697ca73dcd"
      }
     },
     "metadata": {},
     "output_type": "display_data"
    },
    {
     "data": {
      "text/plain": [
       "vocab.txt:   0%|          | 0.00/232k [00:00<?, ?B/s]"
      ],
      "application/vnd.jupyter.widget-view+json": {
       "version_major": 2,
       "version_minor": 0,
       "model_id": "2138dcb3054f4f1cbac6a3f2c003463a"
      }
     },
     "metadata": {},
     "output_type": "display_data"
    },
    {
     "data": {
      "text/plain": [
       "tokenizer.json:   0%|          | 0.00/466k [00:00<?, ?B/s]"
      ],
      "application/vnd.jupyter.widget-view+json": {
       "version_major": 2,
       "version_minor": 0,
       "model_id": "56dcdad71a234360bf3b38b9caf0e7dd"
      }
     },
     "metadata": {},
     "output_type": "display_data"
    },
    {
     "data": {
      "text/plain": [
       "special_tokens_map.json:   0%|          | 0.00/239 [00:00<?, ?B/s]"
      ],
      "application/vnd.jupyter.widget-view+json": {
       "version_major": 2,
       "version_minor": 0,
       "model_id": "51184f611da6477fa93d7e0d3406aa66"
      }
     },
     "metadata": {},
     "output_type": "display_data"
    },
    {
     "data": {
      "text/plain": [
       "1_Pooling/config.json:   0%|          | 0.00/190 [00:00<?, ?B/s]"
      ],
      "application/vnd.jupyter.widget-view+json": {
       "version_major": 2,
       "version_minor": 0,
       "model_id": "01b7bc85129c4acf94eb3d5aa4c908aa"
      }
     },
     "metadata": {},
     "output_type": "display_data"
    }
   ],
   "execution_count": 10
  },
  {
   "metadata": {
    "ExecuteTime": {
     "end_time": "2024-08-05T18:13:14.277055Z",
     "start_time": "2024-08-05T18:13:14.214790Z"
    }
   },
   "cell_type": "code",
   "source": [
    "embedding = embedding_model.encode(answer_llm)\n",
    "print(embedding[0])"
   ],
   "id": "2befee45ce5b577c",
   "outputs": [
    {
     "name": "stdout",
     "output_type": "stream",
     "text": [
      "-0.42244658\n"
     ]
    }
   ],
   "execution_count": 14
  },
  {
   "metadata": {
    "ExecuteTime": {
     "end_time": "2024-08-05T18:17:14.439360Z",
     "start_time": "2024-08-05T18:17:14.436824Z"
    }
   },
   "cell_type": "code",
   "source": "import numpy as np",
   "id": "742fe07314f79789",
   "outputs": [],
   "execution_count": 15
  },
  {
   "metadata": {
    "ExecuteTime": {
     "end_time": "2024-08-05T18:19:34.921199Z",
     "start_time": "2024-08-05T18:18:35.025359Z"
    }
   },
   "cell_type": "code",
   "source": [
    "evaluations = []\n",
    "\n",
    "for _, row in df.iterrows():\n",
    "    embedding_origin = embedding_model.encode(row.answer_orig)\n",
    "    embedding_llm = embedding_model.encode(row.answer_llm)\n",
    "    evaluations.append(np.dot(embedding_origin, embedding_llm))"
   ],
   "id": "ae21789af88f2ea",
   "outputs": [],
   "execution_count": 16
  },
  {
   "metadata": {
    "ExecuteTime": {
     "end_time": "2024-08-05T18:21:03.811131Z",
     "start_time": "2024-08-05T18:21:03.805102Z"
    }
   },
   "cell_type": "code",
   "source": "np.percentile(evaluations, 75)",
   "id": "1248d7203df540c6",
   "outputs": [
    {
     "data": {
      "text/plain": [
       "31.674307823181152"
      ]
     },
     "execution_count": 18,
     "metadata": {},
     "output_type": "execute_result"
    }
   ],
   "execution_count": 18
  },
  {
   "metadata": {
    "ExecuteTime": {
     "end_time": "2024-08-05T18:27:33.817743Z",
     "start_time": "2024-08-05T18:27:15.837699Z"
    }
   },
   "cell_type": "code",
   "source": [
    "evaluations_2 = []\n",
    "\n",
    "for _, row in df.iterrows():\n",
    "    embedding_origin = embedding_model.encode(row.answer_orig)\n",
    "    embedding_llm = embedding_model.encode(row.answer_llm)\n",
    "    \n",
    "    norm_origin = np.sqrt((embedding_origin * embedding_origin).sum())\n",
    "    norm_llm = np.sqrt((embedding_llm * embedding_llm).sum())\n",
    "    evaluations_2.append(np.dot(embedding_origin / norm_origin, embedding_llm / norm_llm))\n"
   ],
   "id": "d373b39ac1beae06",
   "outputs": [],
   "execution_count": 21
  },
  {
   "metadata": {
    "ExecuteTime": {
     "end_time": "2024-08-05T18:27:38.258613Z",
     "start_time": "2024-08-05T18:27:38.234775Z"
    }
   },
   "cell_type": "code",
   "source": "np.percentile(evaluations_2, 75)",
   "id": "b9818389093c3963",
   "outputs": [
    {
     "data": {
      "text/plain": [
       "0.836234837770462"
      ]
     },
     "execution_count": 22,
     "metadata": {},
     "output_type": "execute_result"
    }
   ],
   "execution_count": 22
  },
  {
   "metadata": {
    "ExecuteTime": {
     "end_time": "2024-08-05T18:28:20.797763Z",
     "start_time": "2024-08-05T18:28:17.809689Z"
    }
   },
   "cell_type": "code",
   "source": "!pip install rouge",
   "id": "b15240f4e2a15bc",
   "outputs": [
    {
     "name": "stderr",
     "output_type": "stream",
     "text": [
      "huggingface/tokenizers: The current process just got forked, after parallelism has already been used. Disabling parallelism to avoid deadlocks...\n",
      "To disable this warning, you can either:\n",
      "\t- Avoid using `tokenizers` before the fork if possible\n",
      "\t- Explicitly set the environment variable TOKENIZERS_PARALLELISM=(true | false)\n"
     ]
    },
    {
     "name": "stdout",
     "output_type": "stream",
     "text": [
      "Collecting rouge\r\n",
      "  Obtaining dependency information for rouge from https://files.pythonhosted.org/packages/32/7c/650ae86f92460e9e8ef969cc5008b24798dcf56a9a8947d04c78f550b3f5/rouge-1.0.1-py3-none-any.whl.metadata\r\n",
      "  Downloading rouge-1.0.1-py3-none-any.whl.metadata (4.1 kB)\r\n",
      "Requirement already satisfied: six in /Users/billhsieh/work/llm-camp/venv/lib/python3.12/site-packages (from rouge) (1.16.0)\r\n",
      "Downloading rouge-1.0.1-py3-none-any.whl (13 kB)\r\n",
      "Installing collected packages: rouge\r\n",
      "Successfully installed rouge-1.0.1\r\n",
      "\r\n",
      "\u001B[1m[\u001B[0m\u001B[34;49mnotice\u001B[0m\u001B[1;39;49m]\u001B[0m\u001B[39;49m A new release of pip is available: \u001B[0m\u001B[31;49m23.2.1\u001B[0m\u001B[39;49m -> \u001B[0m\u001B[32;49m24.2\u001B[0m\r\n",
      "\u001B[1m[\u001B[0m\u001B[34;49mnotice\u001B[0m\u001B[1;39;49m]\u001B[0m\u001B[39;49m To update, run: \u001B[0m\u001B[32;49mpip install --upgrade pip\u001B[0m\r\n"
     ]
    }
   ],
   "execution_count": 23
  },
  {
   "metadata": {
    "ExecuteTime": {
     "end_time": "2024-08-05T18:29:35.831320Z",
     "start_time": "2024-08-05T18:29:35.819101Z"
    }
   },
   "cell_type": "code",
   "source": [
    "from rouge import Rouge\n",
    "rouge_scorer = Rouge()\n",
    "\n",
    "r = df.iloc[10]\n",
    "scores = rouge_scorer.get_scores(r['answer_orig'], r['answer_llm'])[0]\n",
    "\n",
    "f_score = scores['rouge-1']['f']"
   ],
   "id": "a1f4b8b805d94e90",
   "outputs": [],
   "execution_count": 24
  },
  {
   "metadata": {
    "ExecuteTime": {
     "end_time": "2024-08-05T18:29:38.585327Z",
     "start_time": "2024-08-05T18:29:38.581406Z"
    }
   },
   "cell_type": "code",
   "source": "f_score",
   "id": "de003e6213ab4d72",
   "outputs": [
    {
     "data": {
      "text/plain": [
       "0.45454544954545456"
      ]
     },
     "execution_count": 25,
     "metadata": {},
     "output_type": "execute_result"
    }
   ],
   "execution_count": 25
  },
  {
   "metadata": {
    "ExecuteTime": {
     "end_time": "2024-08-05T18:33:16.648947Z",
     "start_time": "2024-08-05T18:33:16.645362Z"
    }
   },
   "cell_type": "code",
   "source": [
    "f_rouge_1 = scores['rouge-1']['f']\n",
    "f_rouge_2 = scores['rouge-2']['f']\n",
    "f_rouge_l = scores['rouge-l']['f']\n",
    "average_f = (f_rouge_1 + f_rouge_2 + f_rouge_l) / 3\n",
    "print(average_f)"
   ],
   "id": "9314c6d9ad273853",
   "outputs": [
    {
     "name": "stdout",
     "output_type": "stream",
     "text": [
      "0.36500136000136507\n"
     ]
    }
   ],
   "execution_count": 28
  },
  {
   "metadata": {
    "ExecuteTime": {
     "end_time": "2024-08-05T18:37:39.321339Z",
     "start_time": "2024-08-05T18:37:38.838926Z"
    }
   },
   "cell_type": "code",
   "source": [
    "from rouge import Rouge\n",
    "rouge_scorer = Rouge()\n",
    "rouge_scores = []\n",
    "\n",
    "for _, row in df.iterrows():\n",
    "    scores = rouge_scorer.get_scores(row['answer_orig'], row['answer_llm'])[0]\n",
    "    f_rouge_2 = scores['rouge-2']['f']\n",
    "    rouge_scores.append(f_rouge_2)\n",
    "\n",
    "rouge = pd.Series(rouge_scores)\n",
    "print(rouge.mean())"
   ],
   "id": "8f8cf24b9ad1187e",
   "outputs": [
    {
     "name": "stdout",
     "output_type": "stream",
     "text": [
      "0.20696501983423318\n"
     ]
    }
   ],
   "execution_count": 31
  },
  {
   "metadata": {},
   "cell_type": "code",
   "outputs": [],
   "execution_count": null,
   "source": "",
   "id": "407cf0fed38ec84"
  }
 ],
 "metadata": {
  "kernelspec": {
   "display_name": "Python 3",
   "language": "python",
   "name": "python3"
  },
  "language_info": {
   "codemirror_mode": {
    "name": "ipython",
    "version": 2
   },
   "file_extension": ".py",
   "mimetype": "text/x-python",
   "name": "python",
   "nbconvert_exporter": "python",
   "pygments_lexer": "ipython2",
   "version": "2.7.6"
  }
 },
 "nbformat": 4,
 "nbformat_minor": 5
}
